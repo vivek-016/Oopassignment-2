{
  "nbformat": 4,
  "nbformat_minor": 0,
  "metadata": {
    "colab": {
      "name": "Oopassignment2.ipynb",
      "provenance": [],
      "collapsed_sections": [],
      "authorship_tag": "ABX9TyMeTgJrSaBE4Uhvy0xHnSck",
      "include_colab_link": true
    },
    "kernelspec": {
      "name": "python3",
      "display_name": "Python 3"
    },
    "language_info": {
      "name": "python"
    }
  },
  "cells": [
    {
      "cell_type": "markdown",
      "metadata": {
        "id": "view-in-github",
        "colab_type": "text"
      },
      "source": [
        "<a href=\"https://colab.research.google.com/github/vivek-016/Oopassignment-2/blob/main/Oopassignment2.ipynb\" target=\"_parent\"><img src=\"https://colab.research.google.com/assets/colab-badge.svg\" alt=\"Open In Colab\"/></a>"
      ]
    },
    {
      "cell_type": "code",
      "metadata": {
        "colab": {
          "base_uri": "https://localhost:8080/"
        },
        "id": "DOBTVnlRA0FL",
        "outputId": "d2d55371-2e27-4230-a9b5-e225e466c1ca"
      },
      "source": [
        "#1st problem\n",
        "class Circle:\n",
        "    def __init__(self, r):\n",
        "        self.radius = r\n",
        "\n",
        "    def area(self):\n",
        "        return self.radius**2*3.14\n",
        "    \n",
        "    def perimeter(self):\n",
        "        return 2*self.radius*3.14\n",
        "print(\"enter the radius:\")        \n",
        "r = int(input())\n",
        "Circle = Circle(r)\n",
        "print(Circle.area())\n",
        "print(Circle.perimeter())"
      ],
      "execution_count": null,
      "outputs": [
        {
          "output_type": "stream",
          "name": "stdout",
          "text": [
            "enter the radius:\n",
            "7\n",
            "153.86\n",
            "43.96\n"
          ]
        }
      ]
    },
    {
      "cell_type": "code",
      "metadata": {
        "id": "mmiTlyGyILH3",
        "colab": {
          "base_uri": "https://localhost:8080/"
        },
        "outputId": "53a6ae8f-3878-4437-ad68-c03b87044ce8"
      },
      "source": [
        "#2nd problem\n",
        "class Faculty:\n",
        "  def Data(self,name,ID,branch,salary):\n",
        "    self.name = name\n",
        "    self.ID = ID\n",
        "    self.branch = branch\n",
        "    self.salary = salary\n",
        "  def Display(self):\n",
        "    print('Name: ',self.name)\n",
        "    print('ID: ',self.ID)\n",
        "    print('Branch: ',self.branch)\n",
        "    print('Salary: ',self.salary)  \n",
        "\n",
        "\n",
        "\n",
        "F1 = Faculty()\n",
        "F2 = Faculty()\n",
        "F3 = Faculty()\n",
        "F4 = Faculty()\n",
        "F5 = Faculty()\n",
        "\n",
        "name = str(input('Enter name'))\n",
        "ID = int(input('ID:'))\n",
        "branch = str(input('Branch:'))\n",
        "salary = int(input('Salary'))\n",
        "F1.Data(name,ID,branch,salary)\n",
        "\n",
        "name = str(input('Enter name'))\n",
        "ID = int(input('ID:'))\n",
        "branch = str(input('Branch:'))\n",
        "salary = int(input('Salary:'))  \n",
        "F2.Data(name,ID,branch,salary)\n",
        "\n",
        "name = str(input('Enter name'))\n",
        "ID = int(input('ID:'))\n",
        "branch = str(input('Branch:'))\n",
        "salary = int(input('Salary:'))  \n",
        "F3.Data(name,ID,branch,salary)\n",
        "name = str(input('Enter name'))\n",
        "ID = int(input('ID:'))\n",
        "branch = str(input('Branch:'))\n",
        "salary = int(input('Salary:'))  \n",
        "F4.Data(name,ID,branch,salary)\n",
        "name = str(input('Enter name'))\n",
        "ID = int(input('ID:'))\n",
        "branch = str(input('Branch:'))\n",
        "salary = int(input('Salary:'))  \n",
        "F5.Data(name,ID,branch,salary)\n",
        "\n",
        "F1.Display()\n",
        "F2.Display()\n",
        "F3.Display()\n",
        "F4.Display()\n",
        "F5.Display()"
      ],
      "execution_count": null,
      "outputs": [
        {
          "output_type": "stream",
          "name": "stdout",
          "text": [
            "Enter namesdfg\n",
            "ID:3456\n",
            "Branch:dfgh\n",
            "Salary456\n",
            "Enter namedfgh\n",
            "ID:4567\n",
            "Branch:dfghj\n",
            "Salary:34567\n",
            "Enter namedfghj\n",
            "ID:4567\n",
            "Branch:dfghj\n",
            "Salary:4567\n",
            "Enter namedfghj\n",
            "ID:5678\n",
            "Branch:fghjk\n",
            "Salary:56789\n",
            "Enter namefghjkl\n",
            "ID:5678\n",
            "Branch:fghj\n",
            "Salary:4567\n",
            "Name:  sdfg\n",
            "ID:  3456\n",
            "Branch:  dfgh\n",
            "Salary:  456\n",
            "Name:  dfgh\n",
            "ID:  4567\n",
            "Branch:  dfghj\n",
            "Salary:  34567\n",
            "Name:  dfghj\n",
            "ID:  4567\n",
            "Branch:  dfghj\n",
            "Salary:  4567\n",
            "Name:  dfghj\n",
            "ID:  5678\n",
            "Branch:  fghjk\n",
            "Salary:  56789\n",
            "Name:  fghjkl\n",
            "ID:  5678\n",
            "Branch:  fghj\n",
            "Salary:  4567\n"
          ]
        }
      ]
    },
    {
      "cell_type": "code",
      "metadata": {
        "colab": {
          "base_uri": "https://localhost:8080/"
        },
        "id": "bdWOknyCuJe8",
        "outputId": "335b5096-216b-4cfe-ed2e-ab8ff4ef611c"
      },
      "source": [
        "#3rd problem\n",
        "class account:\n",
        "  def __init__(self,Acc_no,name,amount):\n",
        "    self.Acc_no = Acc_no\n",
        "    self.name = name\n",
        "    self.amount = amount\n",
        "  def Deposit(self,amount):\n",
        "    self.amount += amount\n",
        "  def Withdraw(self,amount):\n",
        "    if amount > self.amount:\n",
        "      print(\"Insufficient fund\")\n",
        "    else:\n",
        "      self.amount -= amount\n",
        "  def Checkbalance(self):\n",
        "    print(self.amount)\n",
        "  def Accountdetails(self):\n",
        "    print(\"Account details are:\")\n",
        "    print(self.Acc_no,self.name,self.amount)\n",
        "  \n",
        "acc = account(\"456\",\"Vivek\",1000)\n",
        "acc.Deposit(400)\n",
        "acc.Checkbalance()\n",
        "acc.Withdraw(1200)\n",
        "acc.Checkbalance()\n",
        "acc.Withdraw(200)\n",
        "acc.Accountdetails()\n",
        "  \n",
        "\n",
        "\n",
        "\n",
        "\n",
        "\n",
        "\n",
        "  "
      ],
      "execution_count": null,
      "outputs": [
        {
          "output_type": "stream",
          "name": "stdout",
          "text": [
            "1400\n",
            "200\n",
            "Account details are:\n",
            "456 Vivek 0\n"
          ]
        }
      ]
    },
    {
      "cell_type": "code",
      "metadata": {
        "colab": {
          "base_uri": "https://localhost:8080/"
        },
        "id": "I3K3uQldPDuZ",
        "outputId": "0dba52f2-ece5-401d-e82d-761f6a9fab34"
      },
      "source": [
        "#4th Problem\n",
        "class Students:\n",
        "    count = 0\n",
        "    def __init__(self, name,usn):\n",
        "        self.name = name\n",
        "        self.marks = []\n",
        "        self.usn = usn\n",
        "    def Marks(self):\n",
        "        for i in range(3):\n",
        "            m = int(input(\"Enter the marks of %s in %d subject: \"%(self.name, i+1)))\n",
        "            self.marks.append(m)\n",
        "            \n",
        "    def Display(self):\n",
        "        print (self.name, self.usn , \"scored \", self.marks)\n",
        "             \n",
        "\n",
        "s1 = Students(\"Vivek\",16)\n",
        "s1.Marks()\n",
        "s1.Display()\n",
        "\n",
        "\n",
        "\n"
      ],
      "execution_count": null,
      "outputs": [
        {
          "output_type": "stream",
          "name": "stdout",
          "text": [
            "Enter the marks of Vivek in 1 subject: 98\n",
            "Enter the marks of Vivek in 2 subject: 98\n",
            "Enter the marks of Vivek in 3 subject: 98\n",
            "Vivek 16 scored  [98, 98, 98]\n"
          ]
        }
      ]
    },
    {
      "cell_type": "code",
      "metadata": {
        "id": "FY0lb8vBaCm4",
        "colab": {
          "base_uri": "https://localhost:8080/"
        },
        "outputId": "32e6b54d-8bb7-4d93-d6a9-bad6bdec2ae1"
      },
      "source": [
        "#5th Problem\n",
        "class Patient:\n",
        "    def setData(self):\n",
        "        self.name = input(\"Enter the name of the patient : \")\n",
        "        self.dateOfAdmission = input(\"Enter the date of admission : \")\n",
        "        self.symptoms = input(\"Enter all the symptoms with a space in between : \").split(\" \")\n",
        "        self.oxygenLevel = int(input(\"Enter the oxygen level of the patient : \"))\n",
        "        self.dateOfDischarge = input(\"Enter the date of discharge : \")\n",
        "\n",
        "    def getData(self):\n",
        "        print(f\"\\nName : {self.name} \\nDate of Admission : {self.dateOfAdmission} \\nSymptoms : {self.symptoms} \\nOxygen Level : {self.oxygenLevel} \\nDate of Discharge : {self.dateOfDischarge}\\n\")\n",
        "        return self.name, self.dateOfAdmission, self.symptoms, self.oxygenLevel, self.dateOfDischarge\n",
        "\n",
        "    def checkSeverity(self):\n",
        "        if self.oxygenLevel < 90:\n",
        "            print(\"Oxygen support.\")\n",
        "        else:\n",
        "            print(\"General ward.\")\n",
        "\n",
        "\n",
        "class Hospital:    \n",
        "    def __init__(self):\n",
        "        self.listOfPatients = []\n",
        "        self.oxygenSupport = []\n",
        "\n",
        "    def addPatient(self):\n",
        "        temp = Patient()\n",
        "        temp.setData()\n",
        "        if temp.oxygenLevel < 90:\n",
        "            self.oxygenSupport.append(1)\n",
        "        else:\n",
        "            self.oxygenSupport.append(0)\n",
        "        self.listOfPatients.append(temp)\n",
        "    def checkSeverity(self):\n",
        "        name = input(\"Enter the name of the patient : \")\n",
        "        for i in range(0, len(self.listOfPatients)):\n",
        "            if name == self.listOfPatients[i].name:\n",
        "                self.listOfPatients[i].checkSeverity()\n",
        "                return 1\n",
        "        print(\"sorry no vacant slots.\")\n",
        "\n",
        "\n",
        "    def getOxygenSupport(self):\n",
        "        return self.oxygenSupport.count(1)\n",
        "\n",
        "    def generalWard(self):\n",
        "        return self.oxygenSupport.count(0)\n",
        "\n",
        "    def totalPatients(self):\n",
        "        return len(self.listOfPatients)\n",
        "\n",
        "\n",
        "H1 = Hospital()\n",
        "\n",
        "for i in range(0, 3):\n",
        "    H1.addPatient()\n",
        "    H1.listOfPatients[i].getData()\n",
        "    H1.listOfPatients[i].checkSeverity()\n",
        "\n",
        "print(H1.getOxygenSupport())\n",
        "print(H1.generalWard())\n",
        "print(H1.totalPatients())\n",
        "H1.checkSeverity()       \n"
      ],
      "execution_count": 56,
      "outputs": [
        {
          "output_type": "stream",
          "name": "stdout",
          "text": [
            "Enter the name of the patient : vivek\n",
            "Enter the date of admission : 101020\n",
            "Enter all the symptoms with a space in between : none\n",
            "Enter the oxygen level of the patient : 88\n",
            "Enter the date of discharge : 121020\n",
            "\n",
            "Name : vivek \n",
            "Date of Admission : 101020 \n",
            "Symptoms : ['none'] \n",
            "Oxygen Level : 88 \n",
            "Date of Discharge : 121020\n",
            "\n",
            "Oxygen support.\n",
            "Enter the name of the patient : vikas\n",
            "Enter the date of admission : 101020\n",
            "Enter all the symptoms with a space in between : none\n",
            "Enter the oxygen level of the patient : 91\n",
            "Enter the date of discharge : 121020\n",
            "\n",
            "Name : vikas \n",
            "Date of Admission : 101020 \n",
            "Symptoms : ['none'] \n",
            "Oxygen Level : 91 \n",
            "Date of Discharge : 121020\n",
            "\n",
            "General ward.\n",
            "Enter the name of the patient : vishal\n",
            "Enter the date of admission : 101020\n",
            "Enter all the symptoms with a space in between : none\n",
            "Enter the oxygen level of the patient : 90\n",
            "Enter the date of discharge : 121020\n",
            "\n",
            "Name : vishal \n",
            "Date of Admission : 101020 \n",
            "Symptoms : ['none'] \n",
            "Oxygen Level : 90 \n",
            "Date of Discharge : 121020\n",
            "\n",
            "General ward.\n",
            "1\n",
            "2\n",
            "3\n",
            "Enter the name of the patient : vaishnav\n",
            "sorry no vacant slots.\n"
          ]
        }
      ]
    },
    {
      "cell_type": "code",
      "metadata": {
        "colab": {
          "base_uri": "https://localhost:8080/"
        },
        "id": "T24XMZAiRD3_",
        "outputId": "5db024bf-5594-45f6-a471-0148861aa6b8"
      },
      "source": [
        "#6th Pronlem\n",
        "class Time():\n",
        "  def __init__(self,hours,minutes,seconds):\n",
        "    self.hours = hours\n",
        "    self.minutes = minutes\n",
        "    self.seconds = seconds\n",
        "  def Display(self):\n",
        "    print( self.hours ,\":\" ,self.minutes ,\":\", self.seconds )\n",
        "class time():\n",
        "  def __init__(self,hours,minutes,seconds):\n",
        "    self.hours = 0\n",
        "    self.minutes = 0\n",
        "    self.seconds = 0\n",
        "  def display(self):\n",
        "    print(self.hours,\":\",self.minutes,\":\",self.seconds)      \n",
        "t1 = Time(2,20,34)\n",
        "T1 = time(2,20,34)\n",
        "t1.Display()\n",
        "T1.display()    \n",
        "  \n",
        "\n"
      ],
      "execution_count": null,
      "outputs": [
        {
          "output_type": "stream",
          "name": "stdout",
          "text": [
            "2 : 20 : 34\n",
            "0 : 0 : 0\n"
          ]
        }
      ]
    },
    {
      "cell_type": "code",
      "metadata": {
        "colab": {
          "base_uri": "https://localhost:8080/"
        },
        "id": "zrqqmXYZWXHs",
        "outputId": "b358c1c6-0293-405c-de23-9ebe4a49644a"
      },
      "source": [
        "#7th Problem\n",
        "class Student:\n",
        "  def __init__(self,name,age,roll_no):\n",
        "    self.name = name\n",
        "    self.age = age\n",
        "    self.roll_no = roll_no\n",
        "\n",
        "S1 = Student(\"Rahul\",21,33)\n",
        "S2 = Student(\"Rohit\",22,74)\n",
        "if S1.age == S2.age :\n",
        "  print('equal')\n",
        "else:\n",
        "  print('not equal')      \n"
      ],
      "execution_count": null,
      "outputs": [
        {
          "output_type": "stream",
          "name": "stdout",
          "text": [
            "not equal\n"
          ]
        }
      ]
    },
    {
      "cell_type": "code",
      "metadata": {
        "id": "GndGBpLEeq3D",
        "colab": {
          "base_uri": "https://localhost:8080/"
        },
        "outputId": "09b9b777-67b3-47c6-f768-9e0cc833e5ec"
      },
      "source": [
        "#8th Problem\n",
        "class Student:\n",
        "  print('sem:')\n",
        "  sem = int(input())\n",
        "  print('institute:')\n",
        "  institute = str(input())\n",
        "  def __init__(self,name,usn):\n",
        "    self.name = name\n",
        "    self.usn = usn\n",
        " \n",
        "  def stddetails(self):\n",
        "    print('name: ',self.name) \n",
        "    print('usn: ',self.usn)\n",
        "  @classmethod   \n",
        "  def clsdisplay(Student):\n",
        "    print('Sem: ',Student.sem)\n",
        "    print('Institute: ',Student.institute) \n",
        "  @staticmethod\n",
        "  def static():\n",
        "    print('this class stores and prints the details of the student and institute')   \n",
        "name = \"vivek\"\n",
        "usn = 16\n",
        "S1 = Student(name,usn)\n",
        "S1.stddetails()\n",
        "Student.clsdisplay()\n",
        "S1.static()\n",
        "\n"
      ],
      "execution_count": null,
      "outputs": [
        {
          "output_type": "stream",
          "name": "stdout",
          "text": [
            "sem:\n",
            "3\n",
            "institute:\n",
            "iiitdwd\n",
            "name:  vivek\n",
            "usn:  16\n",
            "Sem:  3\n",
            "Institute:  iiitdwd\n",
            "this class stores and prints the details of the student and institute\n"
          ]
        }
      ]
    },
    {
      "cell_type": "code",
      "metadata": {
        "colab": {
          "base_uri": "https://localhost:8080/"
        },
        "id": "V-dw80Grp19t",
        "outputId": "abaee2a2-7fb1-4969-de55-9341a5c3ea26"
      },
      "source": [
        "#9th Problem\n",
        "class Student:\n",
        "  def __init__(self,name,roll,sem):\n",
        "    self.name=name\n",
        "    self.roll=roll\n",
        "    self.sem=sem\n",
        "    self.lap=self.Laptop()\n",
        "\n",
        "  def show(self):\n",
        "    print(self.name,self.roll,self.sem)\n",
        "    self.lap.show()\n",
        "\n",
        "  class Laptop:\n",
        "    def __init__(self):\n",
        "      self.brand='ASUS'\n",
        "      self.cpu='i5'\n",
        "      self.ram=8\n",
        "\n",
        "    def show(self):\n",
        "      print(self.brand,self.cpu,self.ram)\n",
        "\n",
        "S1=Student('Vivek',16,3)\n",
        "\n",
        "S1.show()\n"
      ],
      "execution_count": null,
      "outputs": [
        {
          "output_type": "stream",
          "name": "stdout",
          "text": [
            "Vivek 16 3\n",
            "ASUS i5 8\n"
          ]
        }
      ]
    }
  ]
}